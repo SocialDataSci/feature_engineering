{
 "cells": [
  {
   "cell_type": "markdown",
   "metadata": {},
   "source": [
    "# What Algorithm to choose?"
   ]
  },
  {
   "cell_type": "code",
   "execution_count": 58,
   "metadata": {},
   "outputs": [],
   "source": [
    "from numpy import loadtxt\n",
    "import xgboost as xgb\n",
    "from sklearn.model_selection import train_test_split\n",
    "from sklearn.model_selection import GridSearchCV\n",
    "from sklearn.metrics import r2_score, mean_squared_error\n",
    "import pandas as pd\n",
    "import numpy as np\n",
    "\n",
    "df = pd.read_csv('ml_ready_data.csv', index_col='Unnamed: 0', low_memory=False)"
   ]
  },
  {
   "cell_type": "code",
   "execution_count": 59,
   "metadata": {},
   "outputs": [],
   "source": [
    "cols = df.columns\n",
    "\n",
    "df[cols] = df[cols].apply(pd.to_numeric, errors='coerce')"
   ]
  },
  {
   "cell_type": "markdown",
   "metadata": {},
   "source": [
    "# Building your first Model"
   ]
  },
  {
   "cell_type": "code",
   "execution_count": 60,
   "metadata": {
    "collapsed": true
   },
   "outputs": [],
   "source": [
    "# convert to matrix\n",
    "y = 'SalesClosePrice'\n",
    "feature_names = list(df.columns.values)\n",
    "feature_names.remove(y)"
   ]
  },
  {
   "cell_type": "code",
   "execution_count": 61,
   "metadata": {},
   "outputs": [],
   "source": [
    "# split data into train and test sets\n",
    "Xtrain, Xtest, ytrain, ytest = train_test_split(df[feature_names], df[y], test_size=0.5)\n",
    "\n",
    "# See below two lines\n",
    "X_train = pd.DataFrame(data=Xtrain, columns=feature_names)\n",
    "Xtest = pd.DataFrame(data=Xtest, columns=feature_names)\n",
    "\n",
    "dtrain = xgb.DMatrix(Xtrain, label=ytrain)"
   ]
  },
  {
   "cell_type": "code",
   "execution_count": 62,
   "metadata": {},
   "outputs": [
    {
     "data": {
      "text/plain": [
       "XGBRegressor(base_score=0.5, booster='gbtree', colsample_bylevel=1,\n",
       "       colsample_bytree=1, gamma=0, learning_rate=0.1, max_delta_step=0,\n",
       "       max_depth=3, min_child_weight=1, missing=None, n_estimators=100,\n",
       "       n_jobs=4, nthread=None, objective='reg:linear', random_state=0,\n",
       "       reg_alpha=0, reg_lambda=1, scale_pos_weight=1, seed=None,\n",
       "       silent=True, subsample=1)"
      ]
     },
     "execution_count": 62,
     "metadata": {},
     "output_type": "execute_result"
    }
   ],
   "source": [
    "# fit model no training data\n",
    "model = xgb.XGBRegressor(n_jobs=4)\n",
    "model.fit(Xtrain, ytrain)"
   ]
  },
  {
   "cell_type": "markdown",
   "metadata": {},
   "source": [
    "# Evaluating your model"
   ]
  },
  {
   "cell_type": "markdown",
   "metadata": {},
   "source": [
    "### What Metrics to use?"
   ]
  },
  {
   "cell_type": "markdown",
   "metadata": {},
   "source": [
    "* metrics.explained_variance_score(y_true, y_pred)\t\n",
    "    * Explained variance regression score function\n",
    "\n",
    "\n",
    "* metrics.mean_absolute_error(y_true, y_pred)\t       \n",
    "    * Mean absolute error regression loss\n",
    "\n",
    "* metrics.mean_squared_error(y_true, y_pred[, …])\t    \n",
    "    * Mean squared error regression loss\n",
    "\n",
    "\n",
    "* metrics.mean_squared_log_error(y_true, y_pred)\t    \n",
    "    * Mean squared logarithmic error regression loss\n",
    "\n",
    "\n",
    "* metrics.median_absolute_error(y_true, y_pred)\t    \n",
    "    * Median absolute error regression loss\n",
    "\n",
    "\n",
    "* metrics.r2_score(y_true, y_pred[, …])\t            \n",
    "    * R^2 (coefficient of determination) regression score function."
   ]
  },
  {
   "cell_type": "code",
   "execution_count": 63,
   "metadata": {},
   "outputs": [
    {
     "data": {
      "text/plain": [
       "192107.75845679737"
      ]
     },
     "execution_count": 63,
     "metadata": {},
     "output_type": "execute_result"
    }
   ],
   "source": [
    "from math import sqrt\n",
    "mse = mean_squared_error(ytest, ypred)\n",
    "rmse = sqrt(mse)\n",
    "rmse"
   ]
  },
  {
   "cell_type": "code",
   "execution_count": 64,
   "metadata": {
    "collapsed": true
   },
   "outputs": [],
   "source": [
    "# make predictions for test data\n",
    "ypred = model.predict(Xtest)\n",
    "predictions = [round(value) for value in ypred]"
   ]
  },
  {
   "cell_type": "code",
   "execution_count": 65,
   "metadata": {},
   "outputs": [
    {
     "data": {
      "text/plain": [
       "0.9549179713328426"
      ]
     },
     "execution_count": 65,
     "metadata": {},
     "output_type": "execute_result"
    }
   ],
   "source": [
    "# evaluate predictions\n",
    "r2_score(ytest, ypred)"
   ]
  },
  {
   "cell_type": "markdown",
   "metadata": {},
   "source": [
    "# Tuning Your Model"
   ]
  },
  {
   "cell_type": "code",
   "execution_count": null,
   "metadata": {},
   "outputs": [
    {
     "name": "stdout",
     "output_type": "stream",
     "text": [
      "# Tuning hyper-parameters for r2\n",
      "\n"
     ]
    }
   ],
   "source": [
    "# Split the dataset in two equal parts\n",
    "Xtrain, Xtest, ytrain, ytest = train_test_split(df[feature_names], df[y], test_size=0.2, random_state=42)\n",
    "\n",
    "# Set the parameters by cross-validation\n",
    "tuned_parameters = [{'subsample': [1], 'colsample_bytree': [1], 'gamma':[0], \n",
    "                     'learning_rate':[0.1], 'max_depth': [4, 5, 6], \n",
    "                     'min_child_weight': [0.1, 0.5, 0.75]}]\n",
    "\n",
    "\n",
    "print(\"# Tuning hyper-parameters for r2\")\n",
    "print()\n",
    "\n",
    "model = GridSearchCV(xgb.XGBRegressor(n_jobs=4), tuned_parameters, cv=5, scoring='r2')\n",
    "model.fit(Xtrain, ytrain)\n",
    "\n",
    "print(\"Best parameters set found on development set:\")\n",
    "print()\n",
    "print(model.best_params_)\n",
    "print()\n",
    "print(\"Grid scores on development set:\")\n",
    "print()\n",
    "means = model.cv_results_['mean_test_score']\n",
    "stds = model.cv_results_['std_test_score']\n",
    "for mean, std, params in zip(means, stds, model.cv_results_['params']):\n",
    "    print(\"%0.3f (+/-%0.03f) for %r\"\n",
    "          % (mean, std * 2, params))"
   ]
  },
  {
   "cell_type": "markdown",
   "metadata": {},
   "source": [
    "# What is important?"
   ]
  },
  {
   "cell_type": "code",
   "execution_count": null,
   "metadata": {
    "scrolled": false
   },
   "outputs": [],
   "source": [
    "from xgboost import plot_importance\n",
    "%matplotlib inline\n",
    "from matplotlib import pyplot as plt\n",
    "\n",
    "# feature importance\n",
    "fig, ax = plt.subplots(figsize=(40, 40))\n",
    "plot_importance(model, color='red', grid=False, show_values=False, ax=ax)\n",
    "plt.title('importance', fontsize = 36)\n",
    "plt.yticks(fontsize = 18)\n",
    "plt.ylabel('features', fontsize = 36)"
   ]
  },
  {
   "cell_type": "markdown",
   "metadata": {},
   "source": [
    "# What can we afford to lose?"
   ]
  }
 ],
 "metadata": {
  "kernelspec": {
   "display_name": "Python 3",
   "language": "python",
   "name": "python3"
  },
  "language_info": {
   "codemirror_mode": {
    "name": "ipython",
    "version": 3
   },
   "file_extension": ".py",
   "mimetype": "text/x-python",
   "name": "python",
   "nbconvert_exporter": "python",
   "pygments_lexer": "ipython3",
   "version": "3.6.1"
  }
 },
 "nbformat": 4,
 "nbformat_minor": 2
}
