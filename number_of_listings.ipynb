{
 "cells": [
  {
   "cell_type": "code",
   "execution_count": 1,
   "metadata": {
    "collapsed": true
   },
   "outputs": [],
   "source": [
    "import pandas as pd\n",
    "df = pd.read_csv('ESide Price Predicting v1 1-25-18.csv')"
   ]
  },
  {
   "cell_type": "code",
   "execution_count": 2,
   "metadata": {},
   "outputs": [
    {
     "data": {
      "text/plain": [
       "array(['No.', 'MLSID', 'StreetNumberNumeric', 'streetaddress',\n",
       "       'STREETNAME', 'PostalCode', 'StateOrProvince', 'City',\n",
       "       'SalesClosePrice', 'LISTDATE', 'LISTPRICE', 'LISTTYPE',\n",
       "       'OriginalListPrice', 'PricePerTSFT', 'FOUNDATIONSIZE', 'FENCE',\n",
       "       'MapLetter', 'LotSizeDimensions', 'SchoolDistrictNumber',\n",
       "       'DAYSONMARKET', 'offmarketdate', 'Fireplaces', 'RoomArea4',\n",
       "       'roomtype', 'ROOF', 'RoomFloor4', 'PotentialShortSale',\n",
       "       'PoolDescription', 'PDOM', 'GarageDescription', 'SQFTABOVEGROUND',\n",
       "       'Taxes', 'RoomFloor1', 'RoomArea1', 'TAXWITHASSESSMENTS', 'TAXYEAR',\n",
       "       'LivingArea', 'UNITNUMBER', 'YEARBUILT', 'ZONING', 'STYLE', 'ACRES',\n",
       "       'CoolingDescription', 'APPLIANCES', 'backonmarketdate',\n",
       "       'ROOMFAMILYCHAR', 'RoomArea3', 'EXTERIOR', 'RoomFloor3',\n",
       "       'RoomFloor2', 'RoomArea2', 'DiningRoomDescription', 'BASEMENT',\n",
       "       'BathsFull', 'BathsHalf', 'BATHQUARTER', 'BATHSTHREEQUARTER',\n",
       "       'Class', 'BATHSTOTAL', 'BATHDESC', 'RoomArea5', 'RoomFloor5',\n",
       "       'RoomArea6', 'RoomFloor6', 'RoomArea7', 'RoomFloor7', 'RoomArea8',\n",
       "       'RoomFloor8', 'Bedrooms', 'SQFTBELOWGROUND', 'AssumableMortgage',\n",
       "       'AssociationFee', 'ASSESSMENTPENDING', 'AssessedValuation'], dtype=object)"
      ]
     },
     "execution_count": 2,
     "metadata": {},
     "output_type": "execute_result"
    }
   ],
   "source": [
    "df.columns.values"
   ]
  },
  {
   "cell_type": "code",
   "execution_count": 3,
   "metadata": {},
   "outputs": [
    {
     "data": {
      "text/plain": [
       "Timestamp('2017-02-23 00:00:00')"
      ]
     },
     "execution_count": 3,
     "metadata": {},
     "output_type": "execute_result"
    }
   ],
   "source": [
    "min_date = pd.to_datetime(df['LISTDATE']).min()\n",
    "min_date"
   ]
  },
  {
   "cell_type": "code",
   "execution_count": 4,
   "metadata": {},
   "outputs": [
    {
     "data": {
      "text/plain": [
       "Timestamp('2018-01-24 00:00:00')"
      ]
     },
     "execution_count": 4,
     "metadata": {},
     "output_type": "execute_result"
    }
   ],
   "source": [
    "max_date = pd.to_datetime(df['offmarketdate']).max()\n",
    "max_date"
   ]
  },
  {
   "cell_type": "code",
   "execution_count": 5,
   "metadata": {
    "collapsed": true
   },
   "outputs": [],
   "source": [
    "from datetime import date, timedelta\n",
    "\n",
    "# this will give you a list containing all of the dates\n",
    "dd = [min_date + timedelta(days=x) for x in range((max_date-min_date).days + 1)]"
   ]
  },
  {
   "cell_type": "code",
   "execution_count": 11,
   "metadata": {
    "collapsed": true
   },
   "outputs": [],
   "source": [
    "daily_listings = pd.DataFrame()\n",
    "daily_listings['date'] = dd\n",
    "daily_listings.set_index(['date'], inplace=True)\n",
    "daily_listings['num_listings'] = 0"
   ]
  },
  {
   "cell_type": "code",
   "execution_count": 12,
   "metadata": {},
   "outputs": [],
   "source": [
    "# TODO do we only have sold houses?\n",
    "for day_index, day in daily_listings.iterrows():\n",
    "    # loop through listings\n",
    "    listing_count = 0\n",
    "    for listing_index, listing_row in df.iterrows():\n",
    "        \n",
    "        min_date = pd.to_datetime(listing_row['LISTDATE'])\n",
    "        max_date = pd.to_datetime(listing_row['offmarketdate'])\n",
    "        \n",
    "        # check to see if index of daily_listings is between the 'LISTDATE' and 'offmarketdate' of a house\n",
    "        if (min_date <= day_index <= max_date):\n",
    "            listing_count += 1\n",
    "    daily_listings.loc[day_index, 'num_listings'] = listing_count"
   ]
  },
  {
   "cell_type": "code",
   "execution_count": 35,
   "metadata": {},
   "outputs": [],
   "source": [
    "daily_listings['month_of_year'] = daily_listings.index.month"
   ]
  },
  {
   "cell_type": "code",
   "execution_count": 36,
   "metadata": {
    "collapsed": true
   },
   "outputs": [],
   "source": [
    "monthly_df = daily_listings.groupby(['month_of_year'])['num_listings'].mean().reset_index()"
   ]
  },
  {
   "cell_type": "code",
   "execution_count": 37,
   "metadata": {},
   "outputs": [
    {
     "data": {
      "image/png": "[encoded data removed]",
      "text/plain": [
       "<matplotlib.figure.Figure at 0x1dccf4cd128>"
      ]
     },
     "metadata": {},
     "output_type": "display_data"
    }
   ],
   "source": [
    "%matplotlib inline\n",
    "import seaborn as sns;\n",
    "ax = sns.barplot(x=\"month_of_year\", y=\"num_listings\", data=monthly_df)"
   ]
  }
 ],
 "metadata": {
  "kernelspec": {
   "display_name": "Python 3",
   "language": "python",
   "name": "python3"
  },
  "language_info": {
   "codemirror_mode": {
    "name": "ipython",
    "version": 3
   },
   "file_extension": ".py",
   "mimetype": "text/x-python",
   "name": "python",
   "nbconvert_exporter": "python",
   "pygments_lexer": "ipython3",
   "version": "3.6.3"
  }
 },
 "nbformat": 4,
 "nbformat_minor": 2
}
